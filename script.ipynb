{
 "cells": [
  {
   "cell_type": "markdown",
   "metadata": {},
   "source": [
    "# TRANSPORTATION SYSTEMS ANALYSIS \n",
    "\n",
    "## OVERVIEW \n",
    "Transportation systems are the backbone of modern economies, facilitating the movement of goods, services, and people across cities, states, and nations. They play a vital role in commerce, tourism, and daily living, directly impacting economic productivity and societal well-being. However, as transportation networks grow in complexity, they face challenges such as safety concerns, inefficiencies, sustainability issues, and environmental impacts.\n",
    "\n",
    "## About the Project\n",
    "This project focuses on leveraging data from the Bureau of Transportation Statistics (BTS), a key branch of the U.S. Department of Transportation. BTS provides comprehensive and reliable data on passenger travel, freight movement, safety incidents, infrastructure capacity, and environmental impacts across multiple transportation modes, including road, rail, air, and water.\n",
    "\n",
    "As a data analyst at getINNOtized, with BTS as the organization’s largest client, you are tasked with analyzing this rich dataset to uncover patterns, identify inefficiencies, and propose actionable recommendations. By doing so, the goal is to help BTS address challenges such as safety, congestion, infrastructure stress, and economic disruptions, ultimately enhancing the effectiveness of transportation systems.\n",
    "\n",
    "\n",
    "## Objectives\n",
    "\n",
    "\n"
   ]
  },
  {
   "cell_type": "markdown",
   "metadata": {},
   "source": [
    "# Understand and Preprocess Data\n",
    "\n",
    "## Identify the datasets available (e.g., passenger travel, safety incidents, freight movement)."
   ]
  },
  {
   "cell_type": "markdown",
   "metadata": {},
   "source": [
    "# Load and combine all yearly datasets"
   ]
  },
  {
   "cell_type": "code",
   "execution_count": 1,
   "metadata": {},
   "outputs": [],
   "source": [
    "import os\n",
    "import pandas as pd\n"
   ]
  },
  {
   "cell_type": "markdown",
   "metadata": {},
   "source": [
    "### Year 2020 - combine all csv files and save the combined DataFrame "
   ]
  },
  {
   "cell_type": "code",
   "execution_count": 2,
   "metadata": {},
   "outputs": [
    {
     "name": "stdout",
     "output_type": "stream",
     "text": [
      "['C:/Users/lenovo/Desktop/sample data files/compiled data 2020\\\\dot1_0120.csv', 'C:/Users/lenovo/Desktop/sample data files/compiled data 2020\\\\dot1_0220.csv', 'C:/Users/lenovo/Desktop/sample data files/compiled data 2020\\\\dot1_0320.csv', 'C:/Users/lenovo/Desktop/sample data files/compiled data 2020\\\\dot1_0420.csv', 'C:/Users/lenovo/Desktop/sample data files/compiled data 2020\\\\dot1_0520.csv', 'C:/Users/lenovo/Desktop/sample data files/compiled data 2020\\\\dot1_0620.csv', 'C:/Users/lenovo/Desktop/sample data files/compiled data 2020\\\\dot1_0720.csv', 'C:/Users/lenovo/Desktop/sample data files/compiled data 2020\\\\dot1_0820.csv', 'C:/Users/lenovo/Desktop/sample data files/compiled data 2020\\\\dot1_0920.csv', 'C:/Users/lenovo/Desktop/sample data files/compiled data 2020\\\\dot2_0120.csv', 'C:/Users/lenovo/Desktop/sample data files/compiled data 2020\\\\dot2_0220.csv', 'C:/Users/lenovo/Desktop/sample data files/compiled data 2020\\\\dot2_0320.csv', 'C:/Users/lenovo/Desktop/sample data files/compiled data 2020\\\\dot2_0420.csv', 'C:/Users/lenovo/Desktop/sample data files/compiled data 2020\\\\dot2_0520.csv', 'C:/Users/lenovo/Desktop/sample data files/compiled data 2020\\\\dot2_0620.csv', 'C:/Users/lenovo/Desktop/sample data files/compiled data 2020\\\\dot2_0720.csv', 'C:/Users/lenovo/Desktop/sample data files/compiled data 2020\\\\dot2_0820.csv', 'C:/Users/lenovo/Desktop/sample data files/compiled data 2020\\\\dot2_0920.csv', 'C:/Users/lenovo/Desktop/sample data files/compiled data 2020\\\\dot3_0120.csv', 'C:/Users/lenovo/Desktop/sample data files/compiled data 2020\\\\dot3_0220.csv', 'C:/Users/lenovo/Desktop/sample data files/compiled data 2020\\\\dot3_0320.csv', 'C:/Users/lenovo/Desktop/sample data files/compiled data 2020\\\\dot3_0420.csv', 'C:/Users/lenovo/Desktop/sample data files/compiled data 2020\\\\dot3_0520.csv', 'C:/Users/lenovo/Desktop/sample data files/compiled data 2020\\\\dot3_0620.csv', 'C:/Users/lenovo/Desktop/sample data files/compiled data 2020\\\\dot3_0720.csv', 'C:/Users/lenovo/Desktop/sample data files/compiled data 2020\\\\dot3_0820.csv', 'C:/Users/lenovo/Desktop/sample data files/compiled data 2020\\\\dot3_0920.csv']\n",
      "Combined DataFrame Shape: (1015432, 15)\n",
      "Combined DataFrame Info:\n",
      "<class 'pandas.core.frame.DataFrame'>\n",
      "RangeIndex: 1015432 entries, 0 to 1015431\n",
      "Data columns (total 15 columns):\n",
      " #   Column           Non-Null Count    Dtype  \n",
      "---  ------           --------------    -----  \n",
      " 0   TRDTYPE          1015432 non-null  int64  \n",
      " 1   USASTATE         866910 non-null   object \n",
      " 2   DEPE             380551 non-null   object \n",
      " 3   DISAGMOT         1015432 non-null  int64  \n",
      " 4   MEXSTATE         866910 non-null   object \n",
      " 5   CANPROV          866910 non-null   object \n",
      " 6   COUNTRY          1015432 non-null  int64  \n",
      " 7   VALUE            1015432 non-null  int64  \n",
      " 8   SHIPWT           1015432 non-null  int64  \n",
      " 9   FREIGHT_CHARGES  1015432 non-null  int64  \n",
      " 10  DF               670468 non-null   float64\n",
      " 11  CONTCODE         1015432 non-null  object \n",
      " 12  MONTH            1015432 non-null  int64  \n",
      " 13  YEAR             1015432 non-null  int64  \n",
      " 14  COMMODITY2       783403 non-null   float64\n",
      "dtypes: float64(2), int64(8), object(5)\n",
      "memory usage: 116.2+ MB\n",
      "None\n"
     ]
    }
   ],
   "source": [
    "# Specify the folder containing the data files\n",
    "data_folder = \"C:/Users/lenovo/Desktop/sample data files/compiled data 2020\"\n",
    "\n",
    "# List all CSV files in the data folder\n",
    "csv_files = [os.path.join(data_folder, file) for file in os.listdir(data_folder) if file.endswith('.csv')]\n",
    "\n",
    "print(csv_files) \n",
    " \n",
    "# Combine all CSVs into a single DataFrame\n",
    "dataframes = []\n",
    "for file in csv_files:\n",
    "    try:\n",
    "        # Read each CSV file\n",
    "        df = pd.read_csv(file, low_memory=False)\n",
    "        \n",
    "        # Convert columns with mixed types to strings\n",
    "        for col in df.columns:\n",
    "            if df[col].dtype == 'object':  \n",
    "                df[col] = df[col].astype(str)  \n",
    "        \n",
    "        # Add the cleaned DataFrame to the list\n",
    "        dataframes.append(df)\n",
    "    except Exception as e:\n",
    "        print(f\"Error reading {file}: {e}\")\n",
    "\n",
    "# Concatenate all DataFrames into a single DataFrame\n",
    "combined_df_2020 = pd.concat(dataframes, ignore_index=True)\n",
    "\n",
    "# Print the shape and info of the combined DataFrame\n",
    "print(\"Combined DataFrame Shape:\", combined_df_2020.shape)\n",
    "print(\"Combined DataFrame Info:\")\n",
    "print(combined_df_2020.info())"
   ]
  },
  {
   "cell_type": "code",
   "execution_count": 3,
   "metadata": {},
   "outputs": [],
   "source": [
    "# Define the desired folder path\n",
    "new_folder = \"C:/Users/lenovo/Desktop/Combined_Files\"\n",
    "\n",
    "# Create the folder if it doesn't exist\n",
    "os.makedirs(new_folder, exist_ok=True)\n",
    "\n",
    "# Define the file path with the new folder and file name\n",
    "output_file = os.path.join(new_folder, \"combined_df_2020.csv\")\n",
    "\n",
    "# Save the combined DataFrame to the specified file\n",
    "combined_df_2020.to_csv(output_file, index=False)"
   ]
  },
  {
   "cell_type": "markdown",
   "metadata": {},
   "source": [
    "### Year 2021 - combine all csv files and save the combined DataFrame"
   ]
  },
  {
   "cell_type": "code",
   "execution_count": 4,
   "metadata": {},
   "outputs": [
    {
     "name": "stdout",
     "output_type": "stream",
     "text": [
      "['C:/Users/lenovo/Desktop/sample data files/compiled data 2021\\\\dot1_0121.csv', 'C:/Users/lenovo/Desktop/sample data files/compiled data 2021\\\\dot1_0221.csv', 'C:/Users/lenovo/Desktop/sample data files/compiled data 2021\\\\dot1_0321.csv', 'C:/Users/lenovo/Desktop/sample data files/compiled data 2021\\\\dot1_0421.csv', 'C:/Users/lenovo/Desktop/sample data files/compiled data 2021\\\\dot1_0521.csv', 'C:/Users/lenovo/Desktop/sample data files/compiled data 2021\\\\dot1_0621.csv', 'C:/Users/lenovo/Desktop/sample data files/compiled data 2021\\\\dot1_0721.csv', 'C:/Users/lenovo/Desktop/sample data files/compiled data 2021\\\\dot1_0821.csv', 'C:/Users/lenovo/Desktop/sample data files/compiled data 2021\\\\dot1_0921.csv', 'C:/Users/lenovo/Desktop/sample data files/compiled data 2021\\\\dot1_1021.csv', 'C:/Users/lenovo/Desktop/sample data files/compiled data 2021\\\\dot1_1121.csv', 'C:/Users/lenovo/Desktop/sample data files/compiled data 2021\\\\dot1_1221.csv', 'C:/Users/lenovo/Desktop/sample data files/compiled data 2021\\\\dot2_0121.csv', 'C:/Users/lenovo/Desktop/sample data files/compiled data 2021\\\\dot2_0221.csv', 'C:/Users/lenovo/Desktop/sample data files/compiled data 2021\\\\dot2_0321.csv', 'C:/Users/lenovo/Desktop/sample data files/compiled data 2021\\\\dot2_0421.csv', 'C:/Users/lenovo/Desktop/sample data files/compiled data 2021\\\\dot2_0521.csv', 'C:/Users/lenovo/Desktop/sample data files/compiled data 2021\\\\dot2_0621.csv', 'C:/Users/lenovo/Desktop/sample data files/compiled data 2021\\\\dot2_0721.csv', 'C:/Users/lenovo/Desktop/sample data files/compiled data 2021\\\\dot2_0821.csv', 'C:/Users/lenovo/Desktop/sample data files/compiled data 2021\\\\dot2_0921.csv', 'C:/Users/lenovo/Desktop/sample data files/compiled data 2021\\\\dot2_1021.csv', 'C:/Users/lenovo/Desktop/sample data files/compiled data 2021\\\\dot2_1121.csv', 'C:/Users/lenovo/Desktop/sample data files/compiled data 2021\\\\dot2_1221.csv', 'C:/Users/lenovo/Desktop/sample data files/compiled data 2021\\\\dot3_0121.csv', 'C:/Users/lenovo/Desktop/sample data files/compiled data 2021\\\\dot3_0221.csv', 'C:/Users/lenovo/Desktop/sample data files/compiled data 2021\\\\dot3_0321.csv', 'C:/Users/lenovo/Desktop/sample data files/compiled data 2021\\\\dot3_0421.csv', 'C:/Users/lenovo/Desktop/sample data files/compiled data 2021\\\\dot3_0521.csv', 'C:/Users/lenovo/Desktop/sample data files/compiled data 2021\\\\dot3_0621.csv', 'C:/Users/lenovo/Desktop/sample data files/compiled data 2021\\\\dot3_0721.csv', 'C:/Users/lenovo/Desktop/sample data files/compiled data 2021\\\\dot3_0821.csv', 'C:/Users/lenovo/Desktop/sample data files/compiled data 2021\\\\dot3_0921.csv', 'C:/Users/lenovo/Desktop/sample data files/compiled data 2021\\\\dot3_1021.csv', 'C:/Users/lenovo/Desktop/sample data files/compiled data 2021\\\\dot3_1121.csv', 'C:/Users/lenovo/Desktop/sample data files/compiled data 2021\\\\dot3_1221.csv']\n",
      "Combined DataFrame Shape: (1437978, 15)\n",
      "Combined DataFrame Info:\n",
      "<class 'pandas.core.frame.DataFrame'>\n",
      "RangeIndex: 1437978 entries, 0 to 1437977\n",
      "Data columns (total 15 columns):\n",
      " #   Column           Non-Null Count    Dtype  \n",
      "---  ------           --------------    -----  \n",
      " 0   TRDTYPE          1437978 non-null  int64  \n",
      " 1   USASTATE         1230200 non-null  object \n",
      " 2   DEPE             535362 non-null   object \n",
      " 3   DISAGMOT         1437978 non-null  int64  \n",
      " 4   MEXSTATE         1230200 non-null  object \n",
      " 5   CANPROV          1230200 non-null  object \n",
      " 6   COUNTRY          1437978 non-null  int64  \n",
      " 7   VALUE            1437978 non-null  int64  \n",
      " 8   SHIPWT           1437978 non-null  int64  \n",
      " 9   FREIGHT_CHARGES  1437978 non-null  int64  \n",
      " 10  DF               952253 non-null   float64\n",
      " 11  CONTCODE         1437978 non-null  object \n",
      " 12  MONTH            1437978 non-null  int64  \n",
      " 13  YEAR             1437978 non-null  int64  \n",
      " 14  COMMODITY2       1110394 non-null  float64\n",
      "dtypes: float64(2), int64(8), object(5)\n",
      "memory usage: 164.6+ MB\n",
      "None\n"
     ]
    }
   ],
   "source": [
    "# Specify the folder containing the data files\n",
    "data_folder = \"C:/Users/lenovo/Desktop/sample data files/compiled data 2021\"\n",
    "\n",
    "# List all CSV files in the data folder\n",
    "csv_files = [os.path.join(data_folder, file) for file in os.listdir(data_folder) if file.endswith('.csv')]\n",
    "\n",
    "print(csv_files)  # Verify the file paths\n",
    "\n",
    "# Combine all CSVs into a single DataFrame\n",
    "dataframes = []\n",
    "for file in csv_files:\n",
    "    try:\n",
    "        # Read each CSV file\n",
    "        df = pd.read_csv(file, low_memory=False)\n",
    "        \n",
    "        # Convert columns with mixed types to strings\n",
    "        for col in df.columns:\n",
    "            if df[col].dtype == 'object':  \n",
    "                df[col] = df[col].astype(str) \n",
    "        \n",
    "        # Add the cleaned DataFrame to the list\n",
    "        dataframes.append(df)\n",
    "    except Exception as e:\n",
    "        print(f\"Error reading {file}: {e}\")\n",
    "\n",
    "# Concatenate all DataFrames into a single DataFrame\n",
    "combined_df_2021 = pd.concat(dataframes, ignore_index=True)\n",
    "\n",
    "# Print the shape and info of the combined DataFrame\n",
    "print(\"Combined DataFrame Shape:\", combined_df_2021.shape)\n",
    "print(\"Combined DataFrame Info:\")\n",
    "print(combined_df_2021.info())"
   ]
  },
  {
   "cell_type": "code",
   "execution_count": 5,
   "metadata": {},
   "outputs": [],
   "source": [
    "# Define the desired folder path\n",
    "new_folder = \"C:/Users/lenovo/Desktop/Combined_Files\"\n",
    "\n",
    "# Define the file path with the new folder and file name\n",
    "output_file = os.path.join(new_folder, \"combined_df_2021.csv\")\n",
    "\n",
    "# Save the combined DataFrame to the specified file\n",
    "combined_df_2021.to_csv(output_file, index=False)"
   ]
  },
  {
   "cell_type": "markdown",
   "metadata": {},
   "source": [
    "### Year 2022 - combine all csv files and save the combined DataFrame"
   ]
  },
  {
   "cell_type": "code",
   "execution_count": 6,
   "metadata": {},
   "outputs": [
    {
     "name": "stdout",
     "output_type": "stream",
     "text": [
      "['C:/Users/lenovo/Desktop/sample data files/compiled data 2022\\\\dot1_0122.csv', 'C:/Users/lenovo/Desktop/sample data files/compiled data 2022\\\\dot1_0222.csv', 'C:/Users/lenovo/Desktop/sample data files/compiled data 2022\\\\dot1_0322.csv', 'C:/Users/lenovo/Desktop/sample data files/compiled data 2022\\\\dot1_0422.csv', 'C:/Users/lenovo/Desktop/sample data files/compiled data 2022\\\\dot1_0522.csv', 'C:/Users/lenovo/Desktop/sample data files/compiled data 2022\\\\dot1_0622.csv', 'C:/Users/lenovo/Desktop/sample data files/compiled data 2022\\\\dot1_0722.csv', 'C:/Users/lenovo/Desktop/sample data files/compiled data 2022\\\\dot1_0822.csv', 'C:/Users/lenovo/Desktop/sample data files/compiled data 2022\\\\dot1_0922.csv', 'C:/Users/lenovo/Desktop/sample data files/compiled data 2022\\\\dot1_1022.csv', 'C:/Users/lenovo/Desktop/sample data files/compiled data 2022\\\\dot1_1122.csv', 'C:/Users/lenovo/Desktop/sample data files/compiled data 2022\\\\dot1_1222.csv', 'C:/Users/lenovo/Desktop/sample data files/compiled data 2022\\\\dot2_0122.csv', 'C:/Users/lenovo/Desktop/sample data files/compiled data 2022\\\\dot2_0222.csv', 'C:/Users/lenovo/Desktop/sample data files/compiled data 2022\\\\dot2_0322.csv', 'C:/Users/lenovo/Desktop/sample data files/compiled data 2022\\\\dot2_0422.csv', 'C:/Users/lenovo/Desktop/sample data files/compiled data 2022\\\\dot2_0522.csv', 'C:/Users/lenovo/Desktop/sample data files/compiled data 2022\\\\dot2_0622.csv', 'C:/Users/lenovo/Desktop/sample data files/compiled data 2022\\\\dot2_0722.csv', 'C:/Users/lenovo/Desktop/sample data files/compiled data 2022\\\\dot2_0822.csv', 'C:/Users/lenovo/Desktop/sample data files/compiled data 2022\\\\dot2_0922.csv', 'C:/Users/lenovo/Desktop/sample data files/compiled data 2022\\\\dot2_1022.csv', 'C:/Users/lenovo/Desktop/sample data files/compiled data 2022\\\\dot2_1122.csv', 'C:/Users/lenovo/Desktop/sample data files/compiled data 2022\\\\dot2_1222.csv', 'C:/Users/lenovo/Desktop/sample data files/compiled data 2022\\\\dot3_0122.csv', 'C:/Users/lenovo/Desktop/sample data files/compiled data 2022\\\\dot3_0222.csv', 'C:/Users/lenovo/Desktop/sample data files/compiled data 2022\\\\dot3_0322.csv', 'C:/Users/lenovo/Desktop/sample data files/compiled data 2022\\\\dot3_0422.csv', 'C:/Users/lenovo/Desktop/sample data files/compiled data 2022\\\\dot3_0522.csv', 'C:/Users/lenovo/Desktop/sample data files/compiled data 2022\\\\dot3_0622.csv', 'C:/Users/lenovo/Desktop/sample data files/compiled data 2022\\\\dot3_0722.csv', 'C:/Users/lenovo/Desktop/sample data files/compiled data 2022\\\\dot3_0822.csv', 'C:/Users/lenovo/Desktop/sample data files/compiled data 2022\\\\dot3_0922.csv', 'C:/Users/lenovo/Desktop/sample data files/compiled data 2022\\\\dot3_1022.csv', 'C:/Users/lenovo/Desktop/sample data files/compiled data 2022\\\\dot3_1122.csv', 'C:/Users/lenovo/Desktop/sample data files/compiled data 2022\\\\dot3_1222.csv']\n",
      "Combined DataFrame Shape: (1471797, 15)\n",
      "Combined DataFrame Info:\n",
      "<class 'pandas.core.frame.DataFrame'>\n",
      "RangeIndex: 1471797 entries, 0 to 1471796\n",
      "Data columns (total 15 columns):\n",
      " #   Column           Non-Null Count    Dtype  \n",
      "---  ------           --------------    -----  \n",
      " 0   TRDTYPE          1471797 non-null  int64  \n",
      " 1   USASTATE         1261441 non-null  object \n",
      " 2   DEPE             548457 non-null   object \n",
      " 3   DISAGMOT         1471797 non-null  int64  \n",
      " 4   MEXSTATE         1261441 non-null  object \n",
      " 5   CANPROV          1261441 non-null  object \n",
      " 6   COUNTRY          1471797 non-null  int64  \n",
      " 7   VALUE            1471797 non-null  int64  \n",
      " 8   SHIPWT           1471797 non-null  int64  \n",
      " 9   FREIGHT_CHARGES  1471797 non-null  int64  \n",
      " 10  DF               977772 non-null   float64\n",
      " 11  CONTCODE         1471797 non-null  object \n",
      " 12  MONTH            1471797 non-null  int64  \n",
      " 13  YEAR             1471797 non-null  int64  \n",
      " 14  COMMODITY2       1133696 non-null  float64\n",
      "dtypes: float64(2), int64(8), object(5)\n",
      "memory usage: 168.4+ MB\n",
      "None\n"
     ]
    }
   ],
   "source": [
    "# Specify the folder containing the data files\n",
    "data_folder = \"C:/Users/lenovo/Desktop/sample data files/compiled data 2022\"\n",
    "\n",
    "# List all CSV files in the data folder\n",
    "csv_files = [os.path.join(data_folder, file) for file in os.listdir(data_folder) if file.endswith('.csv')]\n",
    "\n",
    "print(csv_files)  # Verify the file paths\n",
    "\n",
    "# Combine all CSVs into a single DataFrame\n",
    "dataframes = []\n",
    "for file in csv_files:\n",
    "    try:\n",
    "        # Read each CSV file\n",
    "        df = pd.read_csv(file, low_memory=False)\n",
    "        \n",
    "        # Convert columns with mixed types to strings\n",
    "        for col in df.columns:\n",
    "            if df[col].dtype == 'object':  \n",
    "                df[col] = df[col].astype(str)  \n",
    "        \n",
    "        # Add the cleaned DataFrame to the list\n",
    "        dataframes.append(df)\n",
    "    except Exception as e:\n",
    "        print(f\"Error reading {file}: {e}\")\n",
    "\n",
    "# Concatenate all DataFrames into a single DataFrame\n",
    "combined_df_2022 = pd.concat(dataframes, ignore_index=True)\n",
    "\n",
    "# Print the shape and info of the combined DataFrame\n",
    "print(\"Combined DataFrame Shape:\", combined_df_2022.shape)\n",
    "print(\"Combined DataFrame Info:\")\n",
    "print(combined_df_2022.info())"
   ]
  },
  {
   "cell_type": "code",
   "execution_count": 7,
   "metadata": {},
   "outputs": [],
   "source": [
    "# Define the desired folder path\n",
    "new_folder = \"C:/Users/lenovo/Desktop/Combined_Files\"\n",
    "\n",
    "# Define the file path with the new folder and file name\n",
    "output_file = os.path.join(new_folder, \"combined_df_2022.csv\")\n",
    "\n",
    "# Save the combined DataFrame to the specified file\n",
    "combined_df_2022.to_csv(output_file, index=False)"
   ]
  },
  {
   "cell_type": "markdown",
   "metadata": {},
   "source": [
    "### Year 2023 - combine all csv files and save the combined DataFrame"
   ]
  },
  {
   "cell_type": "code",
   "execution_count": 9,
   "metadata": {},
   "outputs": [
    {
     "name": "stdout",
     "output_type": "stream",
     "text": [
      "['C:/Users/lenovo/Desktop/sample data files/compiled data 2023\\\\dot1_0123.csv', 'C:/Users/lenovo/Desktop/sample data files/compiled data 2023\\\\dot1_0223.csv', 'C:/Users/lenovo/Desktop/sample data files/compiled data 2023\\\\dot1_0323.csv', 'C:/Users/lenovo/Desktop/sample data files/compiled data 2023\\\\dot1_0423.csv', 'C:/Users/lenovo/Desktop/sample data files/compiled data 2023\\\\dot1_0523.csv', 'C:/Users/lenovo/Desktop/sample data files/compiled data 2023\\\\dot1_0623.csv', 'C:/Users/lenovo/Desktop/sample data files/compiled data 2023\\\\dot1_0723.csv', 'C:/Users/lenovo/Desktop/sample data files/compiled data 2023\\\\dot1_0823.csv', 'C:/Users/lenovo/Desktop/sample data files/compiled data 2023\\\\dot1_0923.csv', 'C:/Users/lenovo/Desktop/sample data files/compiled data 2023\\\\dot1_1023.csv', 'C:/Users/lenovo/Desktop/sample data files/compiled data 2023\\\\dot1_1123.csv', 'C:/Users/lenovo/Desktop/sample data files/compiled data 2023\\\\dot1_1223.csv', 'C:/Users/lenovo/Desktop/sample data files/compiled data 2023\\\\dot2_0123.csv', 'C:/Users/lenovo/Desktop/sample data files/compiled data 2023\\\\dot2_0223.csv', 'C:/Users/lenovo/Desktop/sample data files/compiled data 2023\\\\dot2_0323.csv', 'C:/Users/lenovo/Desktop/sample data files/compiled data 2023\\\\dot2_0423.csv', 'C:/Users/lenovo/Desktop/sample data files/compiled data 2023\\\\dot2_0523.csv', 'C:/Users/lenovo/Desktop/sample data files/compiled data 2023\\\\dot2_0623.csv', 'C:/Users/lenovo/Desktop/sample data files/compiled data 2023\\\\dot2_0723.csv', 'C:/Users/lenovo/Desktop/sample data files/compiled data 2023\\\\dot2_0823.csv', 'C:/Users/lenovo/Desktop/sample data files/compiled data 2023\\\\dot2_0923.csv', 'C:/Users/lenovo/Desktop/sample data files/compiled data 2023\\\\dot2_1023.csv', 'C:/Users/lenovo/Desktop/sample data files/compiled data 2023\\\\dot2_1123.csv', 'C:/Users/lenovo/Desktop/sample data files/compiled data 2023\\\\dot2_1223.csv', 'C:/Users/lenovo/Desktop/sample data files/compiled data 2023\\\\dot3_0123.csv', 'C:/Users/lenovo/Desktop/sample data files/compiled data 2023\\\\dot3_0223.csv', 'C:/Users/lenovo/Desktop/sample data files/compiled data 2023\\\\dot3_0323.csv', 'C:/Users/lenovo/Desktop/sample data files/compiled data 2023\\\\dot3_0423.csv', 'C:/Users/lenovo/Desktop/sample data files/compiled data 2023\\\\dot3_0523.csv', 'C:/Users/lenovo/Desktop/sample data files/compiled data 2023\\\\dot3_0623.csv', 'C:/Users/lenovo/Desktop/sample data files/compiled data 2023\\\\dot3_0723.csv', 'C:/Users/lenovo/Desktop/sample data files/compiled data 2023\\\\dot3_0823.csv', 'C:/Users/lenovo/Desktop/sample data files/compiled data 2023\\\\dot3_0923.csv', 'C:/Users/lenovo/Desktop/sample data files/compiled data 2023\\\\dot3_1023.csv', 'C:/Users/lenovo/Desktop/sample data files/compiled data 2023\\\\dot3_1123.csv', 'C:/Users/lenovo/Desktop/sample data files/compiled data 2023\\\\dot3_1223.csv']\n",
      "Combined DataFrame Shape: (1483475, 15)\n",
      "Combined DataFrame Info:\n",
      "<class 'pandas.core.frame.DataFrame'>\n",
      "RangeIndex: 1483475 entries, 0 to 1483474\n",
      "Data columns (total 15 columns):\n",
      " #   Column           Non-Null Count    Dtype  \n",
      "---  ------           --------------    -----  \n",
      " 0   TRDTYPE          1483475 non-null  int64  \n",
      " 1   USASTATE         1274012 non-null  object \n",
      " 2   DEPE             551131 non-null   object \n",
      " 3   DISAGMOT         1483475 non-null  int64  \n",
      " 4   MEXSTATE         1274012 non-null  object \n",
      " 5   CANPROV          1274012 non-null  object \n",
      " 6   COUNTRY          1483475 non-null  int64  \n",
      " 7   VALUE            1483475 non-null  int64  \n",
      " 8   SHIPWT           1483475 non-null  int64  \n",
      " 9   FREIGHT_CHARGES  1483475 non-null  int64  \n",
      " 10  DF               987922 non-null   float64\n",
      " 11  CONTCODE         1483475 non-null  object \n",
      " 12  MONTH            1483475 non-null  int64  \n",
      " 13  YEAR             1483475 non-null  int64  \n",
      " 14  COMMODITY2       1141807 non-null  float64\n",
      "dtypes: float64(2), int64(8), object(5)\n",
      "memory usage: 169.8+ MB\n",
      "None\n"
     ]
    }
   ],
   "source": [
    "# Specify the folder containing the data files\n",
    "data_folder = \"C:/Users/lenovo/Desktop/sample data files/compiled data 2023\"\n",
    "\n",
    "# List all CSV files in the data folder\n",
    "csv_files = [os.path.join(data_folder, file) for file in os.listdir(data_folder) if file.endswith('.csv')]\n",
    "\n",
    "print(csv_files)  # Verify the file paths\n",
    "\n",
    "# Combine all CSVs into a single DataFrame\n",
    "dataframes = []\n",
    "for file in csv_files:\n",
    "    try:\n",
    "        # Read each CSV file\n",
    "        df = pd.read_csv(file, low_memory=False)\n",
    "        \n",
    "        # Convert columns with mixed types to strings\n",
    "        for col in df.columns:\n",
    "            if df[col].dtype == 'object':  \n",
    "                df[col] = df[col].astype(str)  \n",
    "        \n",
    "        # Add the cleaned DataFrame to the list\n",
    "        dataframes.append(df)\n",
    "    except Exception as e:\n",
    "        print(f\"Error reading {file}: {e}\")\n",
    "\n",
    "# Concatenate all DataFrames into a single DataFrame\n",
    "combined_df_2023 = pd.concat(dataframes, ignore_index=True)\n",
    "\n",
    "# Print the shape and info of the combined DataFrame\n",
    "print(\"Combined DataFrame Shape:\", combined_df_2023.shape)\n",
    "print(\"Combined DataFrame Info:\")\n",
    "print(combined_df_2023.info())\n"
   ]
  },
  {
   "cell_type": "code",
   "execution_count": 10,
   "metadata": {},
   "outputs": [],
   "source": [
    "# Define the desired folder path\n",
    "new_folder = \"C:/Users/lenovo/Desktop/Combined_Files\"\n",
    "\n",
    "# Define the file path with the new folder and file name\n",
    "output_file = os.path.join(new_folder, \"combined_df_2023.csv\")\n",
    "\n",
    "# Save the combined DataFrame to the specified file\n",
    "combined_df_2023.to_csv(output_file, index=False)"
   ]
  },
  {
   "cell_type": "markdown",
   "metadata": {},
   "source": [
    "### Year 2024 - combine all csv files and save the combined DataFrame"
   ]
  },
  {
   "cell_type": "code",
   "execution_count": 11,
   "metadata": {},
   "outputs": [
    {
     "name": "stdout",
     "output_type": "stream",
     "text": [
      "['C:/Users/lenovo/Desktop/sample data files/compiled data 2024\\\\dot1_0124.csv', 'C:/Users/lenovo/Desktop/sample data files/compiled data 2024\\\\dot1_0224.csv', 'C:/Users/lenovo/Desktop/sample data files/compiled data 2024\\\\dot1_0324.csv', 'C:/Users/lenovo/Desktop/sample data files/compiled data 2024\\\\dot1_0424.csv', 'C:/Users/lenovo/Desktop/sample data files/compiled data 2024\\\\dot1_0524.csv', 'C:/Users/lenovo/Desktop/sample data files/compiled data 2024\\\\dot1_0624.csv', 'C:/Users/lenovo/Desktop/sample data files/compiled data 2024\\\\dot1_0724.csv', 'C:/Users/lenovo/Desktop/sample data files/compiled data 2024\\\\dot1_0824.csv', 'C:/Users/lenovo/Desktop/sample data files/compiled data 2024\\\\dot1_0924.csv', 'C:/Users/lenovo/Desktop/sample data files/compiled data 2024\\\\dot2_0124.csv', 'C:/Users/lenovo/Desktop/sample data files/compiled data 2024\\\\dot2_0224.csv', 'C:/Users/lenovo/Desktop/sample data files/compiled data 2024\\\\dot2_0324.csv', 'C:/Users/lenovo/Desktop/sample data files/compiled data 2024\\\\dot2_0424.csv', 'C:/Users/lenovo/Desktop/sample data files/compiled data 2024\\\\dot2_0524.csv', 'C:/Users/lenovo/Desktop/sample data files/compiled data 2024\\\\dot2_0624.csv', 'C:/Users/lenovo/Desktop/sample data files/compiled data 2024\\\\dot2_0724.csv', 'C:/Users/lenovo/Desktop/sample data files/compiled data 2024\\\\dot2_0824.csv', 'C:/Users/lenovo/Desktop/sample data files/compiled data 2024\\\\dot2_0924.csv', 'C:/Users/lenovo/Desktop/sample data files/compiled data 2024\\\\dot3_0124.csv', 'C:/Users/lenovo/Desktop/sample data files/compiled data 2024\\\\dot3_0224.csv', 'C:/Users/lenovo/Desktop/sample data files/compiled data 2024\\\\dot3_0424.csv', 'C:/Users/lenovo/Desktop/sample data files/compiled data 2024\\\\dot3_0524.csv', 'C:/Users/lenovo/Desktop/sample data files/compiled data 2024\\\\dot3_0624.csv', 'C:/Users/lenovo/Desktop/sample data files/compiled data 2024\\\\dot3_0724.csv', 'C:/Users/lenovo/Desktop/sample data files/compiled data 2024\\\\dot3_0824.csv', 'C:/Users/lenovo/Desktop/sample data files/compiled data 2024\\\\dot3_0924.csv']\n",
      "Combined DataFrame Shape: (1108543, 15)\n",
      "Combined DataFrame Info:\n",
      "<class 'pandas.core.frame.DataFrame'>\n",
      "RangeIndex: 1108543 entries, 0 to 1108542\n",
      "Data columns (total 15 columns):\n",
      " #   Column           Non-Null Count    Dtype  \n",
      "---  ------           --------------    -----  \n",
      " 0   TRDTYPE          1108543 non-null  int64  \n",
      " 1   USASTATE         969546 non-null   object \n",
      " 2   DEPE             400100 non-null   object \n",
      " 3   DISAGMOT         1108543 non-null  int64  \n",
      " 4   MEXSTATE         969546 non-null   object \n",
      " 5   CANPROV          969546 non-null   object \n",
      " 6   COUNTRY          1108543 non-null  int64  \n",
      " 7   VALUE            1108543 non-null  int64  \n",
      " 8   SHIPWT           1108543 non-null  int64  \n",
      " 9   FREIGHT_CHARGES  1108543 non-null  int64  \n",
      " 10  DF               744242 non-null   float64\n",
      " 11  CONTCODE         1108543 non-null  object \n",
      " 12  MONTH            1108543 non-null  int64  \n",
      " 13  YEAR             1108543 non-null  int64  \n",
      " 14  COMMODITY2       847440 non-null   float64\n",
      "dtypes: float64(2), int64(8), object(5)\n",
      "memory usage: 126.9+ MB\n",
      "None\n"
     ]
    }
   ],
   "source": [
    "# Specify the folder containing the data files\n",
    "data_folder = \"C:/Users/lenovo/Desktop/sample data files/compiled data 2024\"\n",
    "\n",
    "# List all CSV files in the data folder\n",
    "csv_files = [os.path.join(data_folder, file) for file in os.listdir(data_folder) if file.endswith('.csv')]\n",
    "\n",
    "print(csv_files)  # Verify the file paths\n",
    "\n",
    "# Combine all CSVs into a single DataFrame\n",
    "dataframes = []\n",
    "for file in csv_files:\n",
    "    try:\n",
    "        # Read each CSV file\n",
    "        df = pd.read_csv(file, low_memory=False)\n",
    "        \n",
    "        # Convert columns with mixed types to strings\n",
    "        for col in df.columns:\n",
    "            if df[col].dtype == 'object':  \n",
    "                df[col] = df[col].astype(str)  \n",
    "        \n",
    "        # Add the cleaned DataFrame to the list\n",
    "        dataframes.append(df)\n",
    "    except Exception as e:\n",
    "        print(f\"Error reading {file}: {e}\")\n",
    "\n",
    "# Concatenate all DataFrames into a single DataFrame\n",
    "combined_df_2024 = pd.concat(dataframes, ignore_index=True)\n",
    "\n",
    "# Print the shape and info of the combined DataFrame\n",
    "print(\"Combined DataFrame Shape:\", combined_df_2024.shape)\n",
    "print(\"Combined DataFrame Info:\")\n",
    "print(combined_df_2024.info())"
   ]
  },
  {
   "cell_type": "code",
   "execution_count": 12,
   "metadata": {},
   "outputs": [],
   "source": [
    "# Define the desired folder path\n",
    "new_folder = \"C:/Users/lenovo/Desktop/Combined_Files\"\n",
    "\n",
    "# Define the file path with the new folder and file name\n",
    "output_file = os.path.join(new_folder, \"combined_df_2024.csv\")\n",
    "\n",
    "# Save the combined DataFrame to the specified file\n",
    "combined_df_2024.to_csv(output_file, index=False)"
   ]
  },
  {
   "cell_type": "markdown",
   "metadata": {},
   "source": [
    "### Combine DataFrames "
   ]
  },
  {
   "cell_type": "code",
   "execution_count": 13,
   "metadata": {},
   "outputs": [
    {
     "name": "stdout",
     "output_type": "stream",
     "text": [
      "Found 5 CSV files.\n",
      "Combined DataFrame shape: (6517225, 15)\n",
      "<class 'pandas.core.frame.DataFrame'>\n",
      "RangeIndex: 6517225 entries, 0 to 6517224\n",
      "Data columns (total 15 columns):\n",
      " #   Column           Dtype  \n",
      "---  ------           -----  \n",
      " 0   TRDTYPE          int64  \n",
      " 1   USASTATE         object \n",
      " 2   DEPE             object \n",
      " 3   DISAGMOT         int64  \n",
      " 4   MEXSTATE         object \n",
      " 5   CANPROV          object \n",
      " 6   COUNTRY          int64  \n",
      " 7   VALUE            int64  \n",
      " 8   SHIPWT           int64  \n",
      " 9   FREIGHT_CHARGES  int64  \n",
      " 10  DF               float64\n",
      " 11  CONTCODE         object \n",
      " 12  MONTH            int64  \n",
      " 13  YEAR             int64  \n",
      " 14  COMMODITY2       float64\n",
      "dtypes: float64(2), int64(8), object(5)\n",
      "memory usage: 745.8+ MB\n",
      "None\n",
      "Combined data file saved successfully at: C:/Users/lenovo/Desktop/Combined_Files\\combined_data.csv\n"
     ]
    }
   ],
   "source": [
    "# Folder containing the CSV files\n",
    "data_folder = \"C:/Users/lenovo/Desktop/Combined_Files\"\n",
    "\n",
    "# List all CSV files in the folder\n",
    "csv_files = [os.path.join(data_folder, file) for file in os.listdir(data_folder) if file.endswith('.csv')]\n",
    "\n",
    "print(f\"Found {len(csv_files)} CSV files.\")\n",
    "\n",
    "# Combine all CSV files into a single DataFrame\n",
    "dataframes = [pd.read_csv(file, low_memory=False) for file in csv_files]\n",
    "\n",
    "# Concatenate all DataFrames into one\n",
    "combined_df = pd.concat(dataframes, ignore_index=True)\n",
    "\n",
    "# Display basic information about the combined DataFrame\n",
    "print(f\"Combined DataFrame shape: {combined_df.shape}\")\n",
    "print(combined_df.info())\n",
    "\n",
    "# Define the output folder and file path\n",
    "output_folder = \"C:/Users/lenovo/Desktop/Combined_Files\"\n",
    "\n",
    "output_file = os.path.join(output_folder, \"combined_data.csv\")\n",
    "\n",
    "# Save the combined DataFrame to a CSV file\n",
    "combined_df.to_csv(output_file, index=False)\n",
    "\n",
    "print(f\"Combined data file saved successfully at: {output_file}\")"
   ]
  },
  {
   "cell_type": "markdown",
   "metadata": {},
   "source": [
    "## Explore data characteristics such as missing values, data types, and distributions.\n"
   ]
  },
  {
   "cell_type": "code",
   "execution_count": null,
   "metadata": {},
   "outputs": [],
   "source": []
  }
 ],
 "metadata": {
  "kernelspec": {
   "display_name": "venv",
   "language": "python",
   "name": "python3"
  },
  "language_info": {
   "codemirror_mode": {
    "name": "ipython",
    "version": 3
   },
   "file_extension": ".py",
   "mimetype": "text/x-python",
   "name": "python",
   "nbconvert_exporter": "python",
   "pygments_lexer": "ipython3",
   "version": "3.10.11"
  }
 },
 "nbformat": 4,
 "nbformat_minor": 2
}
